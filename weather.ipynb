{
 "cells": [
  {
   "cell_type": "markdown",
   "metadata": {},
   "source": [
    "# Open Weather Map API Challenge\n",
    "Visualization of temperature changes approaching the equator using random coordinates of 1000 cities around the world\n",
    "\n",
    "## Analysis\n",
    "Trends:\n",
    "1. Observation one\n",
    "2. Observation two\n",
    "3. Observation three"
   ]
  },
  {
   "cell_type": "markdown",
   "metadata": {},
   "source": [
    "#### Dependencies and Setup"
   ]
  },
  {
   "cell_type": "code",
   "execution_count": null,
   "metadata": {},
   "outputs": [],
   "source": [
    "# Dependencies and Setup\n",
    "import matplotlib.pyplot as plt\n",
    "import pandas as pd\n",
    "import numpy as np\n",
    "import requests\n",
    "import time\n",
    "from pprint import pprint\n",
    "import openweathermapy as owm\n",
    "from config import api_key\n",
    "from citipy import citipy"
   ]
  },
  {
   "cell_type": "markdown",
   "metadata": {},
   "source": [
    "#### Generate Random Cities"
   ]
  },
  {
   "cell_type": "code",
   "execution_count": null,
   "metadata": {},
   "outputs": [],
   "source": [
    "# Create empty lists\n",
    "lats = []\n",
    "longs = []\n",
    "coords = []\n",
    "cities = []\n",
    "countries = []\n",
    "\n",
    "# stop random from resetting every time while coding (keep SAME random set each time I run through cells)\n",
    "np.random.seed(125)\n",
    "\n",
    "# get latitudes and longitudes\n",
    "for lat in np.random.randint(-90,90,600):\n",
    "    lats.append(lat)\n",
    "for long in np.random.randint(-180,180,600):\n",
    "    longs.append(long)\n",
    "\n",
    "# researched zip() in Python2 and Python3: went down a rabbit hole\n",
    "# zip together (don't have to make into tuple because I will reference 'lat,long' later instead of using coord[index])\n",
    "coords = zip(lats, longs)\n",
    "\n",
    "# Identify nearest city for each coordinate and append the city_name/country_code to \n",
    "for lat,long in coords:\n",
    "    city = citipy.nearest_city(lat,long)\n",
    "    if city not in cities:\n",
    "        cities.append(city.city_name)\n",
    "        countries.append(city.country_code.upper())\n",
    "\n",
    "# Print the city count to confirm sufficient count\n",
    "print(f\"You have generated {len(cities)} cities.\")"
   ]
  },
  {
   "cell_type": "markdown",
   "metadata": {},
   "source": [
    "#### Perform API Calls"
   ]
  },
  {
   "cell_type": "code",
   "execution_count": null,
   "metadata": {},
   "outputs": [],
   "source": [
    "# Create settings dictionary with information we're interested in\n",
    "# settings = {\"units\": \"imperial\", \"appid\": api_key}\n",
    "\n",
    "# make lists for data to be put into\n",
    "city_name = []\n",
    "cloudiness = []\n",
    "country = []\n",
    "date = []\n",
    "humidity = []\n",
    "lat = []\n",
    "long = []\n",
    "max_temp = []\n",
    "wind_speed = []\n",
    "\n",
    "# count of records and took away sets because of 'time.sleep(1.01)'\n",
    "records = 1\n",
    "\n",
    "# url = **openweather url**\n",
    "\n",
    "# Process print log\n",
    "print(f\"Beginning Data Retrieval\\n ------------------------------\")\n",
    "\n",
    "for city in cities:\n",
    "    try:\n",
    "        response = requests.get(f\"{url}&q={city}\").json()\n",
    "        city_name.append(response[\"name\"])\n",
    "        cloudiness.append(response[\"clouds\"][\"all\"])\n",
    "        country.append(response[\"sys\"][\"country\"])\n",
    "        date.append(response[\"dt\"])\n",
    "        humidity.append(response[\"main\"][\"humidity\"])\n",
    "        lat.append(response[\"coord\"][\"lat\"])\n",
    "        long.append(response[\"coord\"][\"lon\"])\n",
    "        max_temp.append(response[\"main\"][\"temp_max\"])\n",
    "        wind_speed.append(response[\"wind\"][\"speed\"])\n",
    "        print(f\"Processing Record {count} | {city_name}\")\n",
    "        records = records + 1\n",
    "        time.sleep(1.01)\n",
    "    except:\n",
    "        print(\"City not found. Skipping...\")\n",
    "\n",
    "print(f\"------------------------------\\nData Retrieval Complete\\n------------------------------\")"
   ]
  },
  {
   "cell_type": "markdown",
   "metadata": {},
   "source": [
    "#### Make Data Frame"
   ]
  },
  {
   "cell_type": "code",
   "execution_count": null,
   "metadata": {},
   "outputs": [],
   "source": [
    "# Create empty data frame to fill in after API calls\n",
    "df = pd.DataFrame(columns = [\"City\": city_name, \"Cloudiness\": cloudiness, \"Country\": country,\n",
    "                             \"Date\": date, \"Humidity\": humidity, \"Latitude\": lat, \n",
    "                             \"Longitude\": long, \"Max Temp (\\u00b0F)\": max_temp, \"Wind Speed\": wind_speed])\n",
    "df.head()"
   ]
  },
  {
   "cell_type": "markdown",
   "metadata": {},
   "source": [
    "#### Display and Export"
   ]
  },
  {
   "cell_type": "code",
   "execution_count": null,
   "metadata": {},
   "outputs": [],
   "source": [
    "# Display county summary\n",
    "df.count()\n",
    "\n",
    "# Output to CSV\n",
    "# df.to_csv(\"cities.csv\", encoding='utf-8', index=False)"
   ]
  },
  {
   "cell_type": "code",
   "execution_count": null,
   "metadata": {},
   "outputs": [],
   "source": [
    "# Display final data frame\n",
    "df.head()"
   ]
  },
  {
   "cell_type": "markdown",
   "metadata": {},
   "source": [
    "## Plotting\n",
    "Four plots analyzing relationships between latitude and the following:\n",
    "* Temperature in degrees Fahrenheit\n",
    "* Percentage of Humidity\n",
    "* Percentage of Cloudiness\n",
    "* Wind Speed in Miles per Hour"
   ]
  },
  {
   "cell_type": "markdown",
   "metadata": {},
   "source": [
    "#### Latitude vs Temperature Plot"
   ]
  },
  {
   "cell_type": "code",
   "execution_count": null,
   "metadata": {},
   "outputs": [],
   "source": [
    "# CMAP: 'autumn' goes from red to yellow --> temperature\n",
    "\n",
    "# temp plot\n",
    "# colors = rng.rand(100)\n",
    "# plt.scatter(df[\"Latitude\"], df[\"Max Temp (\\u00b0F)\"], color=colors, alpha=0.3, cmap='autumn')\n",
    "# plt.colorbar();\n",
    "# plt.xlabel(\"Latitude\")\n",
    "# plt.ylabel(\"Max Temp (\\u00b0F)\")\n",
    "# plt.title(f\"City Latitude vs Max Temperature ({datetime.now().date()})\")\n",
    "# plt.savefig(\"lat-temp-scatter.png\")\n",
    "# plt.show()"
   ]
  },
  {
   "cell_type": "markdown",
   "metadata": {},
   "source": [
    "#### Latitude vs Humidity Plot"
   ]
  },
  {
   "cell_type": "code",
   "execution_count": null,
   "metadata": {},
   "outputs": [],
   "source": [
    "# CMAP: 'spring' goes from pink to yellow --> humidity\n",
    "\n",
    "# humidity plot\n",
    "# plt.scatter(df[\"Latitude\"], df[\"Humidity\"], color=colors, alpha=0.3, cmap='spring')\n",
    "# plt.colorbar();\n",
    "# plt.xlabel(\"Latitude\")\n",
    "# plt.ylabel(\"Humidity\")\n",
    "# plt.title(f\"City Latitude vs Humidity ({datetime.now().date()})\")\n",
    "# plt.savefig(\"lat-humidity-scatter.png\")\n",
    "# plt.show()"
   ]
  },
  {
   "cell_type": "markdown",
   "metadata": {},
   "source": [
    "#### Latitude vs Cloudiness Plot"
   ]
  },
  {
   "cell_type": "code",
   "execution_count": null,
   "metadata": {},
   "outputs": [],
   "source": [
    "# CMAP: 'winter' goes from dark blue to light green --> cloudiness\n",
    "\n",
    "# cloudiness plot\n",
    "# plt.scatter(df[\"Latitude\"], df[\"Cloudiness\"], color=colors, alpha=0.3, cmap='winter')\n",
    "# plt.colorbar();\n",
    "# plt.xlabel(\"Latitude\")\n",
    "# plt.ylabel(\"Cloudiness\")\n",
    "# plt.title(f\"City Latitude vs Cloudiness ({datetime.now().date()})\")\n",
    "# plt.savefig(\"lat-cloudiness-scatter.png\")\n",
    "# plt.show()"
   ]
  },
  {
   "cell_type": "markdown",
   "metadata": {},
   "source": [
    "#### Latitude vs Wind Speed Plot"
   ]
  },
  {
   "cell_type": "code",
   "execution_count": null,
   "metadata": {},
   "outputs": [],
   "source": [
    "# CMAP: 'cool' goes from sky blue to pink --> wind speed\n",
    "\n",
    "# wind speed plot\n",
    "# plt.scatter(df[\"Latitude\"], df[\"Wind Speed\"], color=colors, alpha=0.3, cmap='cool')\n",
    "# plt.colorbar();\n",
    "# plt.xlabel(\"Latitude\")\n",
    "# plt.ylabel(\"Wind Speed\")\n",
    "# plt.title(f\"City Latitude vs Wind Speed ({datetime.now().date()})\")\n",
    "# plt.savefig(\"lat-windspeed-scatter.png\")\n",
    "# plt.show()"
   ]
  },
  {
   "cell_type": "code",
   "execution_count": null,
   "metadata": {},
   "outputs": [],
   "source": []
  }
 ],
 "metadata": {
  "kernelspec": {
   "display_name": "Python 3",
   "language": "python",
   "name": "python3"
  },
  "language_info": {
   "codemirror_mode": {
    "name": "ipython",
    "version": 3
   },
   "file_extension": ".py",
   "mimetype": "text/x-python",
   "name": "python",
   "nbconvert_exporter": "python",
   "pygments_lexer": "ipython3",
   "version": "3.7.3"
  }
 },
 "nbformat": 4,
 "nbformat_minor": 2
}
