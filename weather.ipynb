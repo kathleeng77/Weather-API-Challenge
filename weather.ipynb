{
 "cells": [
  {
   "cell_type": "markdown",
   "metadata": {},
   "source": [
    "# Open Weather API Challenge"
   ]
  },
  {
   "cell_type": "code",
   "execution_count": 1,
   "metadata": {},
   "outputs": [],
   "source": [
    "# Dependencies and Setup (import matplotlib, pandas, numpy, requests, time, pprint, api_key, and citipy)\n",
    "import matplotlib.pyplot as plt\n",
    "import pandas as pd\n",
    "import numpy as np\n",
    "import requests\n",
    "import time\n",
    "from pprint import pprint\n",
    "from config import api_key\n",
    "\n",
    "# only need to run citipy installation once through jupyter notebook, but left code here for future reference\n",
    "# ! pip install citipy\n",
    "from citipy import citipy"
   ]
  },
  {
   "cell_type": "code",
   "execution_count": 2,
   "metadata": {},
   "outputs": [],
   "source": [
    "# Create empty lists\n",
    "lats = []\n",
    "longs = []\n",
    "coords = []\n",
    "cities = []\n",
    "countries = []\n",
    "\n",
    "# stop random from resetting every time while coding (keep SAME random set each time I run through cells)\n",
    "np.random.seed(125)\n",
    "\n",
    "# get latitudes and longitudes\n",
    "for lat in np.random.randint(-90,90,1000):\n",
    "    lats.append(lat)\n",
    "for long in np.random.randint(-180,180,1000):\n",
    "    longs.append(long)\n",
    "\n",
    "# researched zip() in Python2 and Python3: went down a rabbit hole\n",
    "# zip together (don't have to make into tuple because I will reference 'lat,long' later instead of using coord[index])\n",
    "coords = zip(lats, longs)\n",
    "\n",
    "# Identify nearest city for each coordinate and append the city_name/country_code to \n",
    "for lat,long in coords:\n",
    "    city = citipy.nearest_city(lat,long)\n",
    "    if city not in cities:\n",
    "        cities.append(city.city_name)\n",
    "        countries.append(city.country_code)"
   ]
  },
  {
   "cell_type": "code",
   "execution_count": 3,
   "metadata": {},
   "outputs": [
    {
     "name": "stdout",
     "output_type": "stream",
     "text": [
      "You have generated 1000 cities.\n"
     ]
    }
   ],
   "source": [
    "# Print the city count to confirm sufficient count\n",
    "print(f\"You have generated {len(cities)} cities.\")"
   ]
  },
  {
   "cell_type": "code",
   "execution_count": 4,
   "metadata": {},
   "outputs": [
    {
     "data": {
      "text/html": [
       "<div>\n",
       "<style scoped>\n",
       "    .dataframe tbody tr th:only-of-type {\n",
       "        vertical-align: middle;\n",
       "    }\n",
       "\n",
       "    .dataframe tbody tr th {\n",
       "        vertical-align: top;\n",
       "    }\n",
       "\n",
       "    .dataframe thead th {\n",
       "        text-align: right;\n",
       "    }\n",
       "</style>\n",
       "<table border=\"1\" class=\"dataframe\">\n",
       "  <thead>\n",
       "    <tr style=\"text-align: right;\">\n",
       "      <th></th>\n",
       "      <th>City</th>\n",
       "      <th>Cloudiness</th>\n",
       "      <th>Country</th>\n",
       "      <th>Date</th>\n",
       "      <th>Humidity</th>\n",
       "      <th>Latitude</th>\n",
       "      <th>Longitude</th>\n",
       "      <th>Max Temp (°F)</th>\n",
       "      <th>Wind Speed</th>\n",
       "    </tr>\n",
       "  </thead>\n",
       "  <tbody>\n",
       "    <tr>\n",
       "      <th>0</th>\n",
       "      <td>aykhal</td>\n",
       "      <td></td>\n",
       "      <td>ru</td>\n",
       "      <td></td>\n",
       "      <td></td>\n",
       "      <td>67</td>\n",
       "      <td>111</td>\n",
       "      <td></td>\n",
       "      <td></td>\n",
       "    </tr>\n",
       "    <tr>\n",
       "      <th>1</th>\n",
       "      <td>coari</td>\n",
       "      <td></td>\n",
       "      <td>br</td>\n",
       "      <td></td>\n",
       "      <td></td>\n",
       "      <td>-3</td>\n",
       "      <td>-63</td>\n",
       "      <td></td>\n",
       "      <td></td>\n",
       "    </tr>\n",
       "    <tr>\n",
       "      <th>2</th>\n",
       "      <td>rikitea</td>\n",
       "      <td></td>\n",
       "      <td>pf</td>\n",
       "      <td></td>\n",
       "      <td></td>\n",
       "      <td>-23</td>\n",
       "      <td>-108</td>\n",
       "      <td></td>\n",
       "      <td></td>\n",
       "    </tr>\n",
       "    <tr>\n",
       "      <th>3</th>\n",
       "      <td>katsuura</td>\n",
       "      <td></td>\n",
       "      <td>jp</td>\n",
       "      <td></td>\n",
       "      <td></td>\n",
       "      <td>20</td>\n",
       "      <td>150</td>\n",
       "      <td></td>\n",
       "      <td></td>\n",
       "    </tr>\n",
       "    <tr>\n",
       "      <th>4</th>\n",
       "      <td>busselton</td>\n",
       "      <td></td>\n",
       "      <td>au</td>\n",
       "      <td></td>\n",
       "      <td></td>\n",
       "      <td>-47</td>\n",
       "      <td>88</td>\n",
       "      <td></td>\n",
       "      <td></td>\n",
       "    </tr>\n",
       "  </tbody>\n",
       "</table>\n",
       "</div>"
      ],
      "text/plain": [
       "        City Cloudiness Country Date Humidity  Latitude  Longitude  \\\n",
       "0     aykhal                 ru                      67        111   \n",
       "1      coari                 br                      -3        -63   \n",
       "2    rikitea                 pf                     -23       -108   \n",
       "3   katsuura                 jp                      20        150   \n",
       "4  busselton                 au                     -47         88   \n",
       "\n",
       "  Max Temp (°F) Wind Speed  \n",
       "0                           \n",
       "1                           \n",
       "2                           \n",
       "3                           \n",
       "4                           "
      ]
     },
     "execution_count": 4,
     "metadata": {},
     "output_type": "execute_result"
    }
   ],
   "source": [
    "# Just checking data frame before API calls\n",
    "# Create data frame\n",
    "df = pd.DataFrame({\"City\": cities, \"Cloudiness\": \" \", \"Country\": countries, \"Date\": \" \", \"Humidity\": \" \",\n",
    "                   \"Latitude\": lats, \"Longitude\": longs, \"Max Temp (\\u00b0F)\": \" \", \"Wind Speed\": \" \"})\n",
    "df.head()"
   ]
  },
  {
   "cell_type": "code",
   "execution_count": 5,
   "metadata": {},
   "outputs": [],
   "source": [
    "# WILL USE FOLLOWING TO OUTPUT DATA LATER IN THIS PROJECT\n",
    "# # Output File (CSV)\n",
    "# output_data_file = \"output_data/cities.csv\""
   ]
  }
 ],
 "metadata": {
  "kernelspec": {
   "display_name": "Python 3",
   "language": "python",
   "name": "python3"
  },
  "language_info": {
   "codemirror_mode": {
    "name": "ipython",
    "version": 3
   },
   "file_extension": ".py",
   "mimetype": "text/x-python",
   "name": "python",
   "nbconvert_exporter": "python",
   "pygments_lexer": "ipython3",
   "version": "3.7.3"
  }
 },
 "nbformat": 4,
 "nbformat_minor": 2
}
